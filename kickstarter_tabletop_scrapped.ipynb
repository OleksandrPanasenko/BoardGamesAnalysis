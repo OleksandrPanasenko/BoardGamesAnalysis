{
 "cells": [
  {
   "cell_type": "code",
   "execution_count": 4,
   "id": "c26df1e7",
   "metadata": {},
   "outputs": [],
   "source": [
    "import pandas as pd\n",
    "import numpy as np\n",
    "import matplotlib.pyplot as plt"
   ]
  },
  {
   "cell_type": "code",
   "execution_count": 5,
   "id": "928c5889",
   "metadata": {},
   "outputs": [],
   "source": [
    "df=pd.read_csv('Kickstarter_scrapped.csv')"
   ]
  },
  {
   "cell_type": "code",
   "execution_count": 6,
   "id": "cbc5db2a",
   "metadata": {},
   "outputs": [
    {
     "data": {
      "text/html": [
       "<div>\n",
       "<style scoped>\n",
       "    .dataframe tbody tr th:only-of-type {\n",
       "        vertical-align: middle;\n",
       "    }\n",
       "\n",
       "    .dataframe tbody tr th {\n",
       "        vertical-align: top;\n",
       "    }\n",
       "\n",
       "    .dataframe thead th {\n",
       "        text-align: right;\n",
       "    }\n",
       "</style>\n",
       "<table border=\"1\" class=\"dataframe\">\n",
       "  <thead>\n",
       "    <tr style=\"text-align: right;\">\n",
       "      <th></th>\n",
       "      <th>backers_count</th>\n",
       "      <th>blurb</th>\n",
       "      <th>categoryId</th>\n",
       "      <th>categoryName</th>\n",
       "      <th>categorySlug</th>\n",
       "      <th>converted_pledged_amount</th>\n",
       "      <th>country</th>\n",
       "      <th>country_displayable_name</th>\n",
       "      <th>created_at</th>\n",
       "      <th>created_at_formatted</th>\n",
       "      <th>...</th>\n",
       "      <th>video/frame</th>\n",
       "      <th>video/height</th>\n",
       "      <th>video/high</th>\n",
       "      <th>video/high_type</th>\n",
       "      <th>video/hls</th>\n",
       "      <th>video/hls_type</th>\n",
       "      <th>video/id</th>\n",
       "      <th>video/status</th>\n",
       "      <th>video/tracks</th>\n",
       "      <th>video/width</th>\n",
       "    </tr>\n",
       "  </thead>\n",
       "  <tbody>\n",
       "    <tr>\n",
       "      <th>0</th>\n",
       "      <td>17</td>\n",
       "      <td>STL FILES FOR 3D PRINTING - 75 mm &amp; 32 mm - Pr...</td>\n",
       "      <td>34</td>\n",
       "      <td>Tabletop Games</td>\n",
       "      <td>games/tabletop games</td>\n",
       "      <td>175</td>\n",
       "      <td>MX</td>\n",
       "      <td>Mexico</td>\n",
       "      <td>1744073314</td>\n",
       "      <td>Tue, 08 Apr 2025 00:48:34 +0000</td>\n",
       "      <td>...</td>\n",
       "      <td>NaN</td>\n",
       "      <td>NaN</td>\n",
       "      <td>NaN</td>\n",
       "      <td>NaN</td>\n",
       "      <td>NaN</td>\n",
       "      <td>NaN</td>\n",
       "      <td>NaN</td>\n",
       "      <td>NaN</td>\n",
       "      <td>NaN</td>\n",
       "      <td>NaN</td>\n",
       "    </tr>\n",
       "    <tr>\n",
       "      <th>1</th>\n",
       "      <td>21</td>\n",
       "      <td>3D Printable (STL Files) - 32 mm &amp; 75 mm - Min...</td>\n",
       "      <td>34</td>\n",
       "      <td>Tabletop Games</td>\n",
       "      <td>games/tabletop games</td>\n",
       "      <td>228</td>\n",
       "      <td>MX</td>\n",
       "      <td>Mexico</td>\n",
       "      <td>1744067934</td>\n",
       "      <td>Mon, 07 Apr 2025 23:18:54 +0000</td>\n",
       "      <td>...</td>\n",
       "      <td>NaN</td>\n",
       "      <td>NaN</td>\n",
       "      <td>NaN</td>\n",
       "      <td>NaN</td>\n",
       "      <td>NaN</td>\n",
       "      <td>NaN</td>\n",
       "      <td>NaN</td>\n",
       "      <td>NaN</td>\n",
       "      <td>NaN</td>\n",
       "      <td>NaN</td>\n",
       "    </tr>\n",
       "    <tr>\n",
       "      <th>2</th>\n",
       "      <td>1</td>\n",
       "      <td>Modern Compact Design | Built-in Player Desks ...</td>\n",
       "      <td>34</td>\n",
       "      <td>Tabletop Games</td>\n",
       "      <td>games/tabletop games</td>\n",
       "      <td>19</td>\n",
       "      <td>GB</td>\n",
       "      <td>the United Kingdom</td>\n",
       "      <td>1744100211</td>\n",
       "      <td>Tue, 08 Apr 2025 08:16:51 +0000</td>\n",
       "      <td>...</td>\n",
       "      <td>https://d15chbti7ht62o.cloudfront.net/projects...</td>\n",
       "      <td>720.0</td>\n",
       "      <td>https://v2.kickstarter.com/1744580110-YEMz%2Bc...</td>\n",
       "      <td>video/mp4; codecs=\"avc1.64001E, mp4a.40.2\"</td>\n",
       "      <td>https://v2.kickstarter.com/1744580110-YEMz%2Bc...</td>\n",
       "      <td>application/x-mpegURL</td>\n",
       "      <td>1353798.0</td>\n",
       "      <td>successful</td>\n",
       "      <td>[]</td>\n",
       "      <td>1280.0</td>\n",
       "    </tr>\n",
       "    <tr>\n",
       "      <th>3</th>\n",
       "      <td>28</td>\n",
       "      <td>STL FILES FOR 3D PRINTING - 75 mm &amp; 32 mm - MI...</td>\n",
       "      <td>34</td>\n",
       "      <td>Tabletop Games</td>\n",
       "      <td>games/tabletop games</td>\n",
       "      <td>504</td>\n",
       "      <td>MX</td>\n",
       "      <td>Mexico</td>\n",
       "      <td>1743468223</td>\n",
       "      <td>Tue, 01 Apr 2025 00:43:43 +0000</td>\n",
       "      <td>...</td>\n",
       "      <td>NaN</td>\n",
       "      <td>NaN</td>\n",
       "      <td>NaN</td>\n",
       "      <td>NaN</td>\n",
       "      <td>NaN</td>\n",
       "      <td>NaN</td>\n",
       "      <td>NaN</td>\n",
       "      <td>NaN</td>\n",
       "      <td>NaN</td>\n",
       "      <td>NaN</td>\n",
       "    </tr>\n",
       "    <tr>\n",
       "      <th>4</th>\n",
       "      <td>16</td>\n",
       "      <td>Anime STL File 3d Print Fanart Collectable Bow...</td>\n",
       "      <td>34</td>\n",
       "      <td>Tabletop Games</td>\n",
       "      <td>games/tabletop games</td>\n",
       "      <td>260</td>\n",
       "      <td>MX</td>\n",
       "      <td>Mexico</td>\n",
       "      <td>1743002075</td>\n",
       "      <td>Wed, 26 Mar 2025 15:14:35 +0000</td>\n",
       "      <td>...</td>\n",
       "      <td>NaN</td>\n",
       "      <td>NaN</td>\n",
       "      <td>NaN</td>\n",
       "      <td>NaN</td>\n",
       "      <td>NaN</td>\n",
       "      <td>NaN</td>\n",
       "      <td>NaN</td>\n",
       "      <td>NaN</td>\n",
       "      <td>NaN</td>\n",
       "      <td>NaN</td>\n",
       "    </tr>\n",
       "  </tbody>\n",
       "</table>\n",
       "<p>5 rows × 73 columns</p>\n",
       "</div>"
      ],
      "text/plain": [
       "   backers_count                                              blurb  \\\n",
       "0             17  STL FILES FOR 3D PRINTING - 75 mm & 32 mm - Pr...   \n",
       "1             21  3D Printable (STL Files) - 32 mm & 75 mm - Min...   \n",
       "2              1  Modern Compact Design | Built-in Player Desks ...   \n",
       "3             28  STL FILES FOR 3D PRINTING - 75 mm & 32 mm - MI...   \n",
       "4             16  Anime STL File 3d Print Fanart Collectable Bow...   \n",
       "\n",
       "   categoryId    categoryName          categorySlug  converted_pledged_amount  \\\n",
       "0          34  Tabletop Games  games/tabletop games                       175   \n",
       "1          34  Tabletop Games  games/tabletop games                       228   \n",
       "2          34  Tabletop Games  games/tabletop games                        19   \n",
       "3          34  Tabletop Games  games/tabletop games                       504   \n",
       "4          34  Tabletop Games  games/tabletop games                       260   \n",
       "\n",
       "  country country_displayable_name  created_at  \\\n",
       "0      MX                   Mexico  1744073314   \n",
       "1      MX                   Mexico  1744067934   \n",
       "2      GB       the United Kingdom  1744100211   \n",
       "3      MX                   Mexico  1743468223   \n",
       "4      MX                   Mexico  1743002075   \n",
       "\n",
       "              created_at_formatted  ...  \\\n",
       "0  Tue, 08 Apr 2025 00:48:34 +0000  ...   \n",
       "1  Mon, 07 Apr 2025 23:18:54 +0000  ...   \n",
       "2  Tue, 08 Apr 2025 08:16:51 +0000  ...   \n",
       "3  Tue, 01 Apr 2025 00:43:43 +0000  ...   \n",
       "4  Wed, 26 Mar 2025 15:14:35 +0000  ...   \n",
       "\n",
       "                                         video/frame  video/height  \\\n",
       "0                                                NaN           NaN   \n",
       "1                                                NaN           NaN   \n",
       "2  https://d15chbti7ht62o.cloudfront.net/projects...         720.0   \n",
       "3                                                NaN           NaN   \n",
       "4                                                NaN           NaN   \n",
       "\n",
       "                                          video/high  \\\n",
       "0                                                NaN   \n",
       "1                                                NaN   \n",
       "2  https://v2.kickstarter.com/1744580110-YEMz%2Bc...   \n",
       "3                                                NaN   \n",
       "4                                                NaN   \n",
       "\n",
       "                              video/high_type  \\\n",
       "0                                         NaN   \n",
       "1                                         NaN   \n",
       "2  video/mp4; codecs=\"avc1.64001E, mp4a.40.2\"   \n",
       "3                                         NaN   \n",
       "4                                         NaN   \n",
       "\n",
       "                                           video/hls         video/hls_type  \\\n",
       "0                                                NaN                    NaN   \n",
       "1                                                NaN                    NaN   \n",
       "2  https://v2.kickstarter.com/1744580110-YEMz%2Bc...  application/x-mpegURL   \n",
       "3                                                NaN                    NaN   \n",
       "4                                                NaN                    NaN   \n",
       "\n",
       "    video/id video/status  video/tracks video/width  \n",
       "0        NaN          NaN           NaN         NaN  \n",
       "1        NaN          NaN           NaN         NaN  \n",
       "2  1353798.0   successful            []      1280.0  \n",
       "3        NaN          NaN           NaN         NaN  \n",
       "4        NaN          NaN           NaN         NaN  \n",
       "\n",
       "[5 rows x 73 columns]"
      ]
     },
     "execution_count": 6,
     "metadata": {},
     "output_type": "execute_result"
    }
   ],
   "source": [
    "df.head()"
   ]
  },
  {
   "cell_type": "code",
   "execution_count": 7,
   "id": "a49dac24",
   "metadata": {},
   "outputs": [
    {
     "data": {
      "text/plain": [
       "categoryName\n",
       "Tabletop Games        2239\n",
       "Playing Cards           55\n",
       "3D Printing             20\n",
       "Gaming Hardware         11\n",
       "Sculpture                8\n",
       "Digital Art              8\n",
       "Puzzles                  8\n",
       "Zines                    5\n",
       "Live Games               5\n",
       "Product Design           5\n",
       "Fiction                  4\n",
       "Comic Books              4\n",
       "Video Games              3\n",
       "Toys                     2\n",
       "Art                      2\n",
       "Illustration             2\n",
       "Painting                 1\n",
       "Interactive Design       1\n",
       "Animation                1\n",
       "Crafts                   1\n",
       "DIY                      1\n",
       "Accessories              1\n",
       "Fantasy                  1\n",
       "Television               1\n",
       "Games                    1\n",
       "Webseries                1\n",
       "Nonfiction               1\n",
       "Crochet                  1\n",
       "Ceramics                 1\n",
       "Graphic Novels           1\n",
       "Comedy                   1\n",
       "Country & Folk           1\n",
       "Radio & Podcasts         1\n",
       "Name: count, dtype: int64"
      ]
     },
     "execution_count": 7,
     "metadata": {},
     "output_type": "execute_result"
    }
   ],
   "source": [
    "df['categoryName'].value_counts()"
   ]
  },
  {
   "cell_type": "code",
   "execution_count": 8,
   "id": "212a779d",
   "metadata": {},
   "outputs": [
    {
     "data": {
      "text/plain": [
       "Index(['backers_count', 'blurb', 'categoryId', 'categoryName', 'categorySlug',\n",
       "       'converted_pledged_amount', 'country', 'country_displayable_name',\n",
       "       'created_at', 'created_at_formatted', 'creatorAvatar', 'creatorId',\n",
       "       'creatorName', 'creatorUrl', 'currency', 'currency_symbol',\n",
       "       'currency_trailing_code', 'current_currency', 'deadline', 'description',\n",
       "       'disable_communication', 'fx_rate', 'goal', 'id', 'image',\n",
       "       'is_disliked', 'is_in_post_campaign_pledging_phase', 'is_launched',\n",
       "       'is_liked', 'is_starrable', 'launched_at', 'launched_at_formatted',\n",
       "       'link', 'locationId', 'locationName', 'name', 'percent_funded',\n",
       "       'photo/1024x576', 'photo/1536x864', 'photo/ed', 'photo/full',\n",
       "       'photo/key', 'photo/little', 'photo/med', 'photo/small', 'photo/thumb',\n",
       "       'pledged', 'prelaunch_activated', 'pubDate', 'slug', 'spotlight',\n",
       "       'staff_pick', 'state', 'state_changed_at', 'static_usd_rate', 'title',\n",
       "       'url', 'usd_exchange_rate', 'usd_pledged', 'usd_type', 'video',\n",
       "       'video/base', 'video/base_type', 'video/frame', 'video/height',\n",
       "       'video/high', 'video/high_type', 'video/hls', 'video/hls_type',\n",
       "       'video/id', 'video/status', 'video/tracks', 'video/width'],\n",
       "      dtype='object')"
      ]
     },
     "execution_count": 8,
     "metadata": {},
     "output_type": "execute_result"
    }
   ],
   "source": [
    "df.columns"
   ]
  },
  {
   "cell_type": "code",
   "execution_count": 9,
   "id": "ec1472f2",
   "metadata": {},
   "outputs": [
    {
     "data": {
      "text/html": [
       "<div>\n",
       "<style scoped>\n",
       "    .dataframe tbody tr th:only-of-type {\n",
       "        vertical-align: middle;\n",
       "    }\n",
       "\n",
       "    .dataframe tbody tr th {\n",
       "        vertical-align: top;\n",
       "    }\n",
       "\n",
       "    .dataframe thead th {\n",
       "        text-align: right;\n",
       "    }\n",
       "</style>\n",
       "<table border=\"1\" class=\"dataframe\">\n",
       "  <thead>\n",
       "    <tr style=\"text-align: right;\">\n",
       "      <th></th>\n",
       "      <th>launched_at_formatted</th>\n",
       "      <th>launched_at</th>\n",
       "    </tr>\n",
       "  </thead>\n",
       "  <tbody>\n",
       "    <tr>\n",
       "      <th>0</th>\n",
       "      <td>Thu, 10 Apr 2025 18:13:49 +0000</td>\n",
       "      <td>1744308829</td>\n",
       "    </tr>\n",
       "    <tr>\n",
       "      <th>1</th>\n",
       "      <td>Thu, 10 Apr 2025 17:01:13 +0000</td>\n",
       "      <td>1744304473</td>\n",
       "    </tr>\n",
       "    <tr>\n",
       "      <th>2</th>\n",
       "      <td>Wed, 09 Apr 2025 14:45:01 +0000</td>\n",
       "      <td>1744209901</td>\n",
       "    </tr>\n",
       "    <tr>\n",
       "      <th>3</th>\n",
       "      <td>Tue, 08 Apr 2025 03:43:47 +0000</td>\n",
       "      <td>1744083827</td>\n",
       "    </tr>\n",
       "    <tr>\n",
       "      <th>4</th>\n",
       "      <td>Fri, 04 Apr 2025 21:03:06 +0000</td>\n",
       "      <td>1743800586</td>\n",
       "    </tr>\n",
       "    <tr>\n",
       "      <th>...</th>\n",
       "      <td>...</td>\n",
       "      <td>...</td>\n",
       "    </tr>\n",
       "    <tr>\n",
       "      <th>2393</th>\n",
       "      <td>Tue, 22 Oct 2024 10:05:49 +0000</td>\n",
       "      <td>1729591549</td>\n",
       "    </tr>\n",
       "    <tr>\n",
       "      <th>2394</th>\n",
       "      <td>Tue, 22 Oct 2024 10:03:49 +0000</td>\n",
       "      <td>1729591429</td>\n",
       "    </tr>\n",
       "    <tr>\n",
       "      <th>2395</th>\n",
       "      <td>Tue, 22 Oct 2024 08:56:56 +0000</td>\n",
       "      <td>1729587416</td>\n",
       "    </tr>\n",
       "    <tr>\n",
       "      <th>2396</th>\n",
       "      <td>Tue, 22 Oct 2024 07:00:06 +0000</td>\n",
       "      <td>1729580406</td>\n",
       "    </tr>\n",
       "    <tr>\n",
       "      <th>2397</th>\n",
       "      <td>Mon, 21 Oct 2024 23:12:45 +0000</td>\n",
       "      <td>1729552365</td>\n",
       "    </tr>\n",
       "  </tbody>\n",
       "</table>\n",
       "<p>2398 rows × 2 columns</p>\n",
       "</div>"
      ],
      "text/plain": [
       "                launched_at_formatted  launched_at\n",
       "0     Thu, 10 Apr 2025 18:13:49 +0000   1744308829\n",
       "1     Thu, 10 Apr 2025 17:01:13 +0000   1744304473\n",
       "2     Wed, 09 Apr 2025 14:45:01 +0000   1744209901\n",
       "3     Tue, 08 Apr 2025 03:43:47 +0000   1744083827\n",
       "4     Fri, 04 Apr 2025 21:03:06 +0000   1743800586\n",
       "...                               ...          ...\n",
       "2393  Tue, 22 Oct 2024 10:05:49 +0000   1729591549\n",
       "2394  Tue, 22 Oct 2024 10:03:49 +0000   1729591429\n",
       "2395  Tue, 22 Oct 2024 08:56:56 +0000   1729587416\n",
       "2396  Tue, 22 Oct 2024 07:00:06 +0000   1729580406\n",
       "2397  Mon, 21 Oct 2024 23:12:45 +0000   1729552365\n",
       "\n",
       "[2398 rows x 2 columns]"
      ]
     },
     "execution_count": 9,
     "metadata": {},
     "output_type": "execute_result"
    }
   ],
   "source": [
    "df[['launched_at_formatted','launched_at']]"
   ]
  },
  {
   "cell_type": "code",
   "execution_count": null,
   "id": "474681f8",
   "metadata": {},
   "outputs": [],
   "source": []
  },
  {
   "cell_type": "code",
   "execution_count": 10,
   "id": "bcd822b2",
   "metadata": {},
   "outputs": [],
   "source": [
    "df=df.loc[:,~df.columns.str.contains('photo')]\n",
    "df=df.loc[:,~df.columns.str.contains('video')]"
   ]
  },
  {
   "cell_type": "code",
   "execution_count": 11,
   "id": "db926689",
   "metadata": {},
   "outputs": [
    {
     "data": {
      "text/plain": [
       "is_in_post_campaign_pledging_phase\n",
       "False    1980\n",
       "True      418\n",
       "Name: count, dtype: int64"
      ]
     },
     "execution_count": 11,
     "metadata": {},
     "output_type": "execute_result"
    }
   ],
   "source": [
    "df['is_in_post_campaign_pledging_phase'].value_counts()"
   ]
  },
  {
   "cell_type": "code",
   "execution_count": 12,
   "id": "33b26059",
   "metadata": {},
   "outputs": [],
   "source": [
    "df=df[df['categoryName']=='Tabletop Games']"
   ]
  },
  {
   "cell_type": "code",
   "execution_count": 13,
   "id": "19de9e7b",
   "metadata": {},
   "outputs": [
    {
     "data": {
      "text/plain": [
       "Series([], Name: deadline, dtype: datetime64[ns])"
      ]
     },
     "execution_count": 13,
     "metadata": {},
     "output_type": "execute_result"
    }
   ],
   "source": [
    "pd.to_datetime(df[((~df['is_launched'])&(df['deadline'].astype('int')>0))]['deadline'],unit='s')"
   ]
  },
  {
   "cell_type": "code",
   "execution_count": 14,
   "id": "bed462ab",
   "metadata": {},
   "outputs": [
    {
     "data": {
      "text/plain": [
       "{'whiskers': [<matplotlib.lines.Line2D at 0x27ff4e66190>,\n",
       "  <matplotlib.lines.Line2D at 0x27ff4e67010>],\n",
       " 'caps': [<matplotlib.lines.Line2D at 0x27ff4e67c90>,\n",
       "  <matplotlib.lines.Line2D at 0x27ff4e70950>],\n",
       " 'boxes': [<matplotlib.lines.Line2D at 0x27ff4e65290>],\n",
       " 'medians': [<matplotlib.lines.Line2D at 0x27ff4e71450>],\n",
       " 'fliers': [<matplotlib.lines.Line2D at 0x27ff4e71f10>],\n",
       " 'means': []}"
      ]
     },
     "execution_count": 14,
     "metadata": {},
     "output_type": "execute_result"
    },
    {
     "data": {
      "image/png": "[encoded data removed]",
      "text/plain": [
       "<Figure size 640x480 with 1 Axes>"
      ]
     },
     "metadata": {},
     "output_type": "display_data"
    }
   ],
   "source": [
    "plt.boxplot(df[df['is_launched']]['percent_funded'])"
   ]
  },
  {
   "cell_type": "code",
   "execution_count": 15,
   "id": "ac25ae5c",
   "metadata": {},
   "outputs": [
    {
     "data": {
      "text/plain": [
       "state\n",
       "successful    2239\n",
       "Name: count, dtype: int64"
      ]
     },
     "execution_count": 15,
     "metadata": {},
     "output_type": "execute_result"
    }
   ],
   "source": [
    "df['state'].value_counts()"
   ]
  },
  {
   "cell_type": "code",
   "execution_count": 16,
   "id": "bc1ce797",
   "metadata": {},
   "outputs": [
    {
     "data": {
      "text/plain": [
       "Index(['backers_count', 'blurb', 'categoryId', 'categoryName', 'categorySlug',\n",
       "       'converted_pledged_amount', 'country', 'country_displayable_name',\n",
       "       'created_at', 'created_at_formatted', 'creatorAvatar', 'creatorId',\n",
       "       'creatorName', 'creatorUrl', 'currency', 'currency_symbol',\n",
       "       'currency_trailing_code', 'current_currency', 'deadline', 'description',\n",
       "       'disable_communication', 'fx_rate', 'goal', 'id', 'image',\n",
       "       'is_disliked', 'is_in_post_campaign_pledging_phase', 'is_launched',\n",
       "       'is_liked', 'is_starrable', 'launched_at', 'launched_at_formatted',\n",
       "       'link', 'locationId', 'locationName', 'name', 'percent_funded',\n",
       "       'pledged', 'prelaunch_activated', 'pubDate', 'slug', 'spotlight',\n",
       "       'staff_pick', 'state', 'state_changed_at', 'static_usd_rate', 'title',\n",
       "       'url', 'usd_exchange_rate', 'usd_pledged', 'usd_type'],\n",
       "      dtype='object')"
      ]
     },
     "execution_count": 16,
     "metadata": {},
     "output_type": "execute_result"
    }
   ],
   "source": [
    "df.columns"
   ]
  },
  {
   "cell_type": "code",
   "execution_count": 17,
   "id": "a438ff48",
   "metadata": {},
   "outputs": [],
   "source": [
    "df_selected=df[['id','name','backers_count','converted_pledged_amount','country','deadline','link','percent_funded']]"
   ]
  },
  {
   "cell_type": "code",
   "execution_count": 18,
   "id": "b25b97ce",
   "metadata": {},
   "outputs": [
    {
     "data": {
      "text/plain": [
       "51"
      ]
     },
     "execution_count": 18,
     "metadata": {},
     "output_type": "execute_result"
    }
   ],
   "source": [
    "len(df.columns)"
   ]
  },
  {
   "cell_type": "code",
   "execution_count": 19,
   "id": "7ee6f345",
   "metadata": {},
   "outputs": [
    {
     "data": {
      "text/html": [
       "<div>\n",
       "<style scoped>\n",
       "    .dataframe tbody tr th:only-of-type {\n",
       "        vertical-align: middle;\n",
       "    }\n",
       "\n",
       "    .dataframe tbody tr th {\n",
       "        vertical-align: top;\n",
       "    }\n",
       "\n",
       "    .dataframe thead th {\n",
       "        text-align: right;\n",
       "    }\n",
       "</style>\n",
       "<table border=\"1\" class=\"dataframe\">\n",
       "  <thead>\n",
       "    <tr style=\"text-align: right;\">\n",
       "      <th></th>\n",
       "      <th>goal</th>\n",
       "      <th>pledged</th>\n",
       "      <th>currency</th>\n",
       "      <th>usd_pledged</th>\n",
       "      <th>current_currency</th>\n",
       "    </tr>\n",
       "  </thead>\n",
       "  <tbody>\n",
       "    <tr>\n",
       "      <th>0</th>\n",
       "      <td>180</td>\n",
       "      <td>3550</td>\n",
       "      <td>MXN</td>\n",
       "      <td>169.899841</td>\n",
       "      <td>USD</td>\n",
       "    </tr>\n",
       "    <tr>\n",
       "      <th>1</th>\n",
       "      <td>220</td>\n",
       "      <td>4640</td>\n",
       "      <td>MXN</td>\n",
       "      <td>222.066270</td>\n",
       "      <td>USD</td>\n",
       "    </tr>\n",
       "    <tr>\n",
       "      <th>2</th>\n",
       "      <td>10</td>\n",
       "      <td>15</td>\n",
       "      <td>GBP</td>\n",
       "      <td>19.167222</td>\n",
       "      <td>USD</td>\n",
       "    </tr>\n",
       "    <tr>\n",
       "      <th>3</th>\n",
       "      <td>240</td>\n",
       "      <td>10370</td>\n",
       "      <td>MXN</td>\n",
       "      <td>507.403063</td>\n",
       "      <td>USD</td>\n",
       "    </tr>\n",
       "    <tr>\n",
       "      <th>4</th>\n",
       "      <td>100</td>\n",
       "      <td>5280</td>\n",
       "      <td>MXN</td>\n",
       "      <td>261.306778</td>\n",
       "      <td>USD</td>\n",
       "    </tr>\n",
       "    <tr>\n",
       "      <th>...</th>\n",
       "      <td>...</td>\n",
       "      <td>...</td>\n",
       "      <td>...</td>\n",
       "      <td>...</td>\n",
       "      <td>...</td>\n",
       "    </tr>\n",
       "    <tr>\n",
       "      <th>2393</th>\n",
       "      <td>1000000</td>\n",
       "      <td>13368738</td>\n",
       "      <td>JPY</td>\n",
       "      <td>89637.655665</td>\n",
       "      <td>USD</td>\n",
       "    </tr>\n",
       "    <tr>\n",
       "      <th>2394</th>\n",
       "      <td>100</td>\n",
       "      <td>15322</td>\n",
       "      <td>EUR</td>\n",
       "      <td>16647.489825</td>\n",
       "      <td>USD</td>\n",
       "    </tr>\n",
       "    <tr>\n",
       "      <th>2395</th>\n",
       "      <td>7777</td>\n",
       "      <td>93000</td>\n",
       "      <td>JPY</td>\n",
       "      <td>623.566860</td>\n",
       "      <td>USD</td>\n",
       "    </tr>\n",
       "    <tr>\n",
       "      <th>2396</th>\n",
       "      <td>4380</td>\n",
       "      <td>5749</td>\n",
       "      <td>EUR</td>\n",
       "      <td>6246.339839</td>\n",
       "      <td>USD</td>\n",
       "    </tr>\n",
       "    <tr>\n",
       "      <th>2397</th>\n",
       "      <td>1000</td>\n",
       "      <td>1992</td>\n",
       "      <td>USD</td>\n",
       "      <td>1992.000000</td>\n",
       "      <td>USD</td>\n",
       "    </tr>\n",
       "  </tbody>\n",
       "</table>\n",
       "<p>2239 rows × 5 columns</p>\n",
       "</div>"
      ],
      "text/plain": [
       "         goal   pledged currency   usd_pledged current_currency\n",
       "0         180      3550      MXN    169.899841              USD\n",
       "1         220      4640      MXN    222.066270              USD\n",
       "2          10        15      GBP     19.167222              USD\n",
       "3         240     10370      MXN    507.403063              USD\n",
       "4         100      5280      MXN    261.306778              USD\n",
       "...       ...       ...      ...           ...              ...\n",
       "2393  1000000  13368738      JPY  89637.655665              USD\n",
       "2394      100     15322      EUR  16647.489825              USD\n",
       "2395     7777     93000      JPY    623.566860              USD\n",
       "2396     4380      5749      EUR   6246.339839              USD\n",
       "2397     1000      1992      USD   1992.000000              USD\n",
       "\n",
       "[2239 rows x 5 columns]"
      ]
     },
     "execution_count": 19,
     "metadata": {},
     "output_type": "execute_result"
    }
   ],
   "source": [
    "\n",
    "df[['goal','pledged','currency','usd_pledged','current_currency']]"
   ]
  },
  {
   "cell_type": "code",
   "execution_count": 20,
   "id": "efddf7c7",
   "metadata": {},
   "outputs": [
    {
     "data": {
      "text/plain": [
       "array(['USD'], dtype=object)"
      ]
     },
     "execution_count": 20,
     "metadata": {},
     "output_type": "execute_result"
    }
   ],
   "source": [
    "df['current_currency'].unique()"
   ]
  },
  {
   "cell_type": "code",
   "execution_count": 21,
   "id": "cd7939c4",
   "metadata": {},
   "outputs": [
    {
     "data": {
      "text/plain": [
       "array(['MX', 'GB', 'US', 'DE', 'CA', 'PL', 'BE', 'ES', 'FR', 'AU', 'SE',\n",
       "       'IT', 'GR', 'NL', 'NZ', 'IE', 'JP', 'HK', 'DK', 'SG', 'NO', 'AT',\n",
       "       'CH', 'SI'], dtype=object)"
      ]
     },
     "execution_count": 21,
     "metadata": {},
     "output_type": "execute_result"
    }
   ],
   "source": [
    "df['country'].unique()"
   ]
  },
  {
   "cell_type": "code",
   "execution_count": 22,
   "id": "cf95e61f",
   "metadata": {},
   "outputs": [
    {
     "data": {
      "text/plain": [
       "0       False\n",
       "1       False\n",
       "2       False\n",
       "3       False\n",
       "4       False\n",
       "        ...  \n",
       "2393    False\n",
       "2394    False\n",
       "2395    False\n",
       "2396    False\n",
       "2397    False\n",
       "Name: is_liked, Length: 2239, dtype: bool"
      ]
     },
     "execution_count": 22,
     "metadata": {},
     "output_type": "execute_result"
    }
   ],
   "source": [
    "df['is_liked']"
   ]
  },
  {
   "cell_type": "code",
   "execution_count": 25,
   "id": "5e07f4d6",
   "metadata": {},
   "outputs": [
    {
     "data": {
      "text/plain": [
       "100.0"
      ]
     },
     "execution_count": 25,
     "metadata": {},
     "output_type": "execute_result"
    }
   ],
   "source": [
    "df['percent_funded'].min()"
   ]
  },
  {
   "cell_type": "code",
   "execution_count": 26,
   "id": "d13dade1",
   "metadata": {},
   "outputs": [],
   "source": [
    "df_selected.to_csv('kickstarter_succesful.csv')"
   ]
  },
  {
   "cell_type": "code",
   "execution_count": 1,
   "id": "87c4fd8e",
   "metadata": {},
   "outputs": [],
   "source": [
    "import pandas as pd\n",
    "df_selected=pd.read_csv('kickstarter_succesful.csv')"
   ]
  },
  {
   "cell_type": "code",
   "execution_count": 3,
   "id": "bf37426d",
   "metadata": {},
   "outputs": [
    {
     "data": {
      "text/plain": [
       "60"
      ]
     },
     "execution_count": 3,
     "metadata": {},
     "output_type": "execute_result"
    }
   ],
   "source": [
    "df_selected['name'].str.len().max()"
   ]
  }
 ],
 "metadata": {
  "kernelspec": {
   "display_name": "Python 3",
   "language": "python",
   "name": "python3"
  },
  "language_info": {
   "codemirror_mode": {
    "name": "ipython",
    "version": 3
   },
   "file_extension": ".py",
   "mimetype": "text/x-python",
   "name": "python",
   "nbconvert_exporter": "python",
   "pygments_lexer": "ipython3",
   "version": "3.11.9"
  }
 },
 "nbformat": 4,
 "nbformat_minor": 5
}
